{
 "cells": [
  {
   "cell_type": "code",
   "execution_count": 1,
   "metadata": {},
   "outputs": [
    {
     "name": "stderr",
     "output_type": "stream",
     "text": [
      "2021-12-02 14:49:47.446430: W tensorflow/stream_executor/platform/default/dso_loader.cc:64] Could not load dynamic library 'libcudart.so.11.0'; dlerror: libcudart.so.11.0: cannot open shared object file: No such file or directory\n",
      "2021-12-02 14:49:47.446792: I tensorflow/stream_executor/cuda/cudart_stub.cc:29] Ignore above cudart dlerror if you do not have a GPU set up on your machine.\n"
     ]
    }
   ],
   "source": [
    "import autotab.TabPrediction as tp"
   ]
  },
  {
   "cell_type": "markdown",
   "metadata": {},
   "source": [
    "# Ergonomic Simple"
   ]
  },
  {
   "cell_type": "markdown",
   "metadata": {},
   "source": [
    "    all_frames_tab = tp.make_smart_tab(y_pred, len(y_pred))\n",
    "    simple_tabs = tp.make_squeezed_tab(all_frames_tab)\n",
    "    simple_text = tp.web_tabs(simple_tabs)\n",
    "    st.text(simple_text)"
   ]
  },
  {
   "cell_type": "markdown",
   "metadata": {},
   "source": [
    "# Ergonomic Rhythm"
   ]
  },
  {
   "cell_type": "markdown",
   "metadata": {},
   "source": [
    "    all_frames_tab = tp.make_smart_tab(y_pred, len(y_pred))\n",
    "    rythm_tabs = tp.make_dynamic_tab(all_frames_tab)\n",
    "    rythm_text = tp.web_tabs(rythm_tabs)\n",
    "    st.text(rythm_text)"
   ]
  },
  {
   "cell_type": "markdown",
   "metadata": {},
   "source": [
    "# All Frames"
   ]
  },
  {
   "cell_type": "markdown",
   "metadata": {},
   "source": [
    "    all_frames_tab = tp.make_smart_tab(y_pred, len(y_pred))\n",
    "    all_frames_text = tp.web_tabs(all_frames_tab)\n",
    "    st.text(all_frames_text)"
   ]
  }
 ],
 "metadata": {
  "interpreter": {
   "hash": "e3054ee631c859c74867d0aa2238157b1638b0e80f9bec4c72e9071da013cdc8"
  },
  "kernelspec": {
   "display_name": "Python 3.8.12 64-bit ('autotab': pyenv)",
   "language": "python",
   "name": "python3"
  },
  "language_info": {
   "name": "python",
   "version": "3.8.12"
  },
  "orig_nbformat": 4
 },
 "nbformat": 4,
 "nbformat_minor": 2
}
