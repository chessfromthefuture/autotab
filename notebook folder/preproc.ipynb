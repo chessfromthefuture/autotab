{
 "cells": [
  {
   "cell_type": "code",
   "execution_count": 14,
   "id": "b164d6a9",
   "metadata": {},
   "outputs": [],
   "source": [
    "import os\n",
    "import numpy as np\n",
    "import jams\n",
    "from scipy.io import wavfile\n",
    "import sys\n",
    "import librosa\n",
    "from tensorflow.keras.utils import to_categorical\n",
    "\n",
    "\n",
    "class TabDataReprGen:\n",
    "    def __init__(self, mode=\"c\"):\n",
    "        # file path to the GuitarSet dataset\n",
    "        path = \"data/GuitarSet/\"\n",
    "        self.path_audio = path + \"audio/audio_mic/\"\n",
    "        self.path_anno = path + \"annotation/\"\n",
    "\n",
    "        # labeling parameters\n",
    "        self.string_midi_pitches = [40, 45, 50, 55, 59, 64]\n",
    "        self.highest_fret = 19\n",
    "        self.num_classes = self.highest_fret + 2  # for open/closed\n",
    "\n",
    "        # prepresentation and its labels storage\n",
    "        self.output = {}\n",
    "\n",
    "        # preprocessing modes\n",
    "        #\n",
    "        # c = cqt\n",
    "        # m = melspec\n",
    "        # cm = cqt + melspec\n",
    "        # s = stft\n",
    "        #\n",
    "        self.preproc_mode = mode    # Preprocessing mode for the wav file data\n",
    "        self.downsample = True      # Select to lower sample rate of data\n",
    "        self.normalize = True       # Select to normalize data\n",
    "        self.sr_downs = 22050       # Lowered sample rate\n",
    "\n",
    "        # CQT parameters\n",
    "        self.cqt_n_bins = 192           # Number of bins for the constant-Q transform \"c\"\n",
    "        self.cqt_bins_per_octave = 24   # Number of bins per octave\n",
    "\n",
    "        # STFT parameters\n",
    "        self.n_fft = 2048       # Length of the FFT window\n",
    "        self.hop_length = 512   # Number of samples between successive frames\n",
    "\n",
    "        # save file path\n",
    "        self.save_path = \"data/spec_repr/\" + self.preproc_mode + \"/\"\n",
    "\n",
    "    def load_rep_and_labels_from_raw_file(self, filename):\n",
    "        \"\"\"\n",
    "        Loads wav and jams files, reads wav file and creates sample rate [int]\n",
    "        and data [np.array].\n",
    "        Constructs, cleans, and categorizes labels and stores them in output dict\n",
    "        Returns the number of frames\n",
    "        \"\"\"\n",
    "        file_audio = filename\n",
    "        #file_audio = self.path_audio + filename + \"_mic.wav\"    # wav file\n",
    "        #file_anno = self.path_anno + filename + \".jams\"         # jams file\n",
    "        #jam = jams.load(file_anno)                              # loads jams file\n",
    "        self.sr_original, data = wavfile.read(file_audio)       # creates sample rate [int] and data from wav file\n",
    "        self.sr_curr = self.sr_original\n",
    "\n",
    "        # preprocess audio, store in output dict\n",
    "        self.output[\"repr\"] = np.swapaxes(self.preprocess_audio(data), 0, 1)\n",
    "\n",
    "        # construct labels\n",
    "        frame_indices = range(len(self.output[\"repr\"]))  # Counts the frames\n",
    "        times = librosa.frames_to_time( # Converts frame counts to time (seconds)\n",
    "            frame_indices,\n",
    "            sr=self.sr_curr,            # Sample rate\n",
    "            hop_length=self.hop_length  # Number of samples between successive frames\n",
    "            )\n",
    "        return data\n",
    "\n",
    "\n",
    "    \n",
    "    \n",
    "    def correct_numbering(self, n):\n",
    "        \"\"\"\n",
    "        Adds +1 to correct the string number\n",
    "        \"\"\"\n",
    "        n += 1\n",
    "        if n < 0 or n > self.highest_fret:\n",
    "            n = 0\n",
    "        return n\n",
    "\n",
    "    def categorical(self, label):\n",
    "        \"\"\"\n",
    "        Categorizes the label in the number of classes defined\n",
    "        (highest_fret (19) + 2  # for open/closed)\n",
    "        \"\"\"\n",
    "        return to_categorical(label, self.num_classes)\n",
    "\n",
    "    def clean_label(self, label):\n",
    "        \"\"\"\n",
    "        Takes the label, corrects the string numbering and categorizes the label\n",
    "        using to_categorical.\n",
    "        Returns categorized and clean label\n",
    "        \"\"\"\n",
    "        label = [self.correct_numbering(n) for n in label]\n",
    "        return self.categorical(label)\n",
    "\n",
    "    def clean_labels(self, labels):\n",
    "        \"\"\"\n",
    "        Returns an array of all the cleaned labels with the correct string numbering\n",
    "        and categorized according to the number of classes defined\n",
    "        \"\"\"\n",
    "        return np.array([self.clean_label(label) for label in labels])\n",
    "\n",
    "    def preprocess_audio(self, data):\n",
    "        \"\"\"\n",
    "        Preprocesses data depending on mode selected using librosa.\n",
    "        It converts data to float, then it normalizes it and resamples it\n",
    "        to a lower sample rate. Then, preprocesses it and returns the processed data\n",
    "            Args:\n",
    "                data ([np.array]): [data created by wavfile.read]\n",
    "            Returns:\n",
    "                [np.ndarrray[shape=(n_bins, t)]]: [preprocessed data array]\n",
    "        \"\"\"\n",
    "        data = data.astype(float)\n",
    "        if self.normalize:\n",
    "            data = librosa.util.normalize(data)\n",
    "        if self.downsample:\n",
    "            data = librosa.resample(data, self.sr_original, self.sr_downs)\n",
    "            self.sr_curr = self.sr_downs\n",
    "        if self.preproc_mode == \"c\":\n",
    "            data = np.abs(\n",
    "                librosa.cqt(data,     # Computes the constant-Q transform of an audio signal\n",
    "                            hop_length=self.hop_length,\n",
    "                            sr=self.sr_curr,        # data sample rate\n",
    "                            n_bins=self.cqt_n_bins,\n",
    "                            bins_per_octave=self.cqt_bins_per_octave))\n",
    "        elif self.preproc_mode == \"m\":\n",
    "            data = librosa.feature.melspectrogram(y=data,\n",
    "                                                  sr=self.sr_curr,\n",
    "                                                  n_fft=self.n_fft,\n",
    "                                                  hop_length=self.hop_length)\n",
    "        elif self.preproc_mode == \"cm\":\n",
    "            cqt = np.abs(\n",
    "                librosa.cqt(data,\n",
    "                            hop_length=self.hop_length,\n",
    "                            sr=self.sr_curr,\n",
    "                            n_bins=self.cqt_n_bins,\n",
    "                            bins_per_octave=self.cqt_bins_per_octave))\n",
    "            mel = librosa.feature.melspectrogram(y=data,\n",
    "                                                 sr=self.sr_curr,\n",
    "                                                 n_fft=self.n_fft,\n",
    "                                                 hop_length=self.hop_length)\n",
    "            data = np.concatenate((cqt, mel), axis=0)\n",
    "        elif self.preproc_mode == \"s\":\n",
    "            data = np.abs(\n",
    "                librosa.stft(data,\n",
    "                             n_fft=self.n_fft,\n",
    "                             hop_length=self.hop_length))\n",
    "        else:\n",
    "            print(\"invalid representation mode.\")\n",
    "\n",
    "        return data\n",
    "\n",
    "    def save_data(self, filename):\n",
    "        \"\"\"\n",
    "        Saves the generated data output dictionary into an npz file\n",
    "        \"\"\"\n",
    "        np.savez(filename, **self.output)\n",
    "\n",
    "    def get_nth_filename(self, n):\n",
    "        \"\"\"\n",
    "        Sorts the jams files in the directory, looks for the nth one,\n",
    "        removes the .jams extension and returns only the filename\n",
    "            Returns:\n",
    "                [str]: [filename]\n",
    "        \"\"\"\n",
    "        filenames = np.sort(np.array(os.listdir(self.path_anno)))\n",
    "        filenames = list(filter(lambda x: x[-5:] == \".jams\", filenames))\n",
    "        print(filenames[n])\n",
    "        return filenames[n][:-5]\n",
    "\n",
    "    def load_and_save_repr_nth_file(self, n):\n",
    "        \"\"\"\n",
    "        Gets the filename, preprocesses it, and gets the number of frames.\n",
    "        Saves the file as an npz\n",
    "        \"\"\"\n",
    "\n",
    "        filename = self.get_nth_filename(n)     # Gets only filename with no .jams extension\n",
    "        print(filename)\n",
    "        num_frames = self.load_rep_and_labels_from_raw_file(filename)\n",
    "        print(\"done: \" + filename + \", \" + str(num_frames) + \" frames\")\n",
    "        save_path = self.save_path\n",
    "        if not os.path.exists(save_path):               # Creates saving path if it does not exist\n",
    "            os.makedirs(save_path)\n",
    "        self.save_data(save_path + filename + \".npz\")   # Saves generated output dictionary in an npz file"
   ]
  },
  {
   "cell_type": "code",
   "execution_count": 24,
   "id": "ede4601a",
   "metadata": {},
   "outputs": [
    {
     "data": {
      "text/plain": [
       "(727650,)"
      ]
     },
     "execution_count": 24,
     "metadata": {},
     "output_type": "execute_result"
    }
   ],
   "source": [
    "data.shape"
   ]
  },
  {
   "cell_type": "code",
   "execution_count": 20,
   "id": "dff0bb38",
   "metadata": {},
   "outputs": [
    {
     "name": "stderr",
     "output_type": "stream",
     "text": [
      "/var/folders/40/9_20qq053njgzvtqkynnfzfh0000gn/T/ipykernel_48349/2387570294.py:59: WavFileWarning: Chunk (non-data) not understood, skipping it.\n",
      "  self.sr_original, data = wavfile.read(file_audio)       # creates sample rate [int] and data from wav file\n"
     ]
    },
    {
     "data": {
      "text/plain": [
       "(192, 711)"
      ]
     },
     "execution_count": 20,
     "metadata": {},
     "output_type": "execute_result"
    }
   ],
   "source": [
    "import pandas as pd\n",
    "filenames = 'experimentmono.wav'\n",
    "genrep = TabDataReprGen()\n",
    "data = genrep.load_rep_and_labels_from_raw_file(filenames)\n",
    "process = genrep.preprocess_audio(data)\n",
    "process.shape"
   ]
  },
  {
   "cell_type": "code",
   "execution_count": 27,
   "id": "43591a41",
   "metadata": {},
   "outputs": [
    {
     "data": {
      "text/html": [
       "<div>\n",
       "<style scoped>\n",
       "    .dataframe tbody tr th:only-of-type {\n",
       "        vertical-align: middle;\n",
       "    }\n",
       "\n",
       "    .dataframe tbody tr th {\n",
       "        vertical-align: top;\n",
       "    }\n",
       "\n",
       "    .dataframe thead th {\n",
       "        text-align: right;\n",
       "    }\n",
       "</style>\n",
       "<table border=\"1\" class=\"dataframe\">\n",
       "  <thead>\n",
       "    <tr style=\"text-align: right;\">\n",
       "      <th></th>\n",
       "      <th>0</th>\n",
       "    </tr>\n",
       "  </thead>\n",
       "  <tbody>\n",
       "    <tr>\n",
       "      <th>0</th>\n",
       "      <td>-41</td>\n",
       "    </tr>\n",
       "    <tr>\n",
       "      <th>1</th>\n",
       "      <td>-37</td>\n",
       "    </tr>\n",
       "    <tr>\n",
       "      <th>2</th>\n",
       "      <td>-29</td>\n",
       "    </tr>\n",
       "    <tr>\n",
       "      <th>3</th>\n",
       "      <td>-22</td>\n",
       "    </tr>\n",
       "    <tr>\n",
       "      <th>4</th>\n",
       "      <td>-20</td>\n",
       "    </tr>\n",
       "    <tr>\n",
       "      <th>...</th>\n",
       "      <td>...</td>\n",
       "    </tr>\n",
       "    <tr>\n",
       "      <th>727645</th>\n",
       "      <td>2420</td>\n",
       "    </tr>\n",
       "    <tr>\n",
       "      <th>727646</th>\n",
       "      <td>2285</td>\n",
       "    </tr>\n",
       "    <tr>\n",
       "      <th>727647</th>\n",
       "      <td>2130</td>\n",
       "    </tr>\n",
       "    <tr>\n",
       "      <th>727648</th>\n",
       "      <td>1962</td>\n",
       "    </tr>\n",
       "    <tr>\n",
       "      <th>727649</th>\n",
       "      <td>1792</td>\n",
       "    </tr>\n",
       "  </tbody>\n",
       "</table>\n",
       "<p>727650 rows × 1 columns</p>\n",
       "</div>"
      ],
      "text/plain": [
       "           0\n",
       "0        -41\n",
       "1        -37\n",
       "2        -29\n",
       "3        -22\n",
       "4        -20\n",
       "...      ...\n",
       "727645  2420\n",
       "727646  2285\n",
       "727647  2130\n",
       "727648  1962\n",
       "727649  1792\n",
       "\n",
       "[727650 rows x 1 columns]"
      ]
     },
     "execution_count": 27,
     "metadata": {},
     "output_type": "execute_result"
    }
   ],
   "source": [
    "pd.DataFrame(data)"
   ]
  },
  {
   "cell_type": "code",
   "execution_count": 22,
   "id": "85d1deaa",
   "metadata": {},
   "outputs": [
    {
     "ename": "ParameterError",
     "evalue": "Audio data must be floating-point",
     "output_type": "error",
     "traceback": [
      "\u001b[0;31m---------------------------------------------------------------------------\u001b[0m",
      "\u001b[0;31mParameterError\u001b[0m                            Traceback (most recent call last)",
      "\u001b[0;32m/var/folders/40/9_20qq053njgzvtqkynnfzfh0000gn/T/ipykernel_48349/2114981566.py\u001b[0m in \u001b[0;36m<module>\u001b[0;34m\u001b[0m\n\u001b[0;32m----> 1\u001b[0;31m \u001b[0mmono\u001b[0m \u001b[0;34m=\u001b[0m \u001b[0mlibrosa\u001b[0m\u001b[0;34m.\u001b[0m\u001b[0mto_mono\u001b[0m\u001b[0;34m(\u001b[0m\u001b[0mfilenames1\u001b[0m\u001b[0;34m)\u001b[0m\u001b[0;34m\u001b[0m\u001b[0;34m\u001b[0m\u001b[0m\n\u001b[0m",
      "\u001b[0;32m~/.pyenv/versions/3.8.12/envs/lewagon/lib/python3.8/site-packages/librosa/core/audio.py\u001b[0m in \u001b[0;36mto_mono\u001b[0;34m(y)\u001b[0m\n\u001b[1;32m    452\u001b[0m \u001b[0;34m\u001b[0m\u001b[0m\n\u001b[1;32m    453\u001b[0m     \u001b[0;31m# Validate the buffer.  Stereo is ok here.\u001b[0m\u001b[0;34m\u001b[0m\u001b[0;34m\u001b[0m\u001b[0;34m\u001b[0m\u001b[0m\n\u001b[0;32m--> 454\u001b[0;31m     \u001b[0mutil\u001b[0m\u001b[0;34m.\u001b[0m\u001b[0mvalid_audio\u001b[0m\u001b[0;34m(\u001b[0m\u001b[0my\u001b[0m\u001b[0;34m,\u001b[0m \u001b[0mmono\u001b[0m\u001b[0;34m=\u001b[0m\u001b[0;32mFalse\u001b[0m\u001b[0;34m)\u001b[0m\u001b[0;34m\u001b[0m\u001b[0;34m\u001b[0m\u001b[0m\n\u001b[0m\u001b[1;32m    455\u001b[0m \u001b[0;34m\u001b[0m\u001b[0m\n\u001b[1;32m    456\u001b[0m     \u001b[0;32mif\u001b[0m \u001b[0my\u001b[0m\u001b[0;34m.\u001b[0m\u001b[0mndim\u001b[0m \u001b[0;34m>\u001b[0m \u001b[0;36m1\u001b[0m\u001b[0;34m:\u001b[0m\u001b[0;34m\u001b[0m\u001b[0;34m\u001b[0m\u001b[0m\n",
      "\u001b[0;32m~/.pyenv/versions/3.8.12/envs/lewagon/lib/python3.8/site-packages/librosa/util/utils.py\u001b[0m in \u001b[0;36mvalid_audio\u001b[0;34m(y, mono)\u001b[0m\n\u001b[1;32m    288\u001b[0m \u001b[0;34m\u001b[0m\u001b[0m\n\u001b[1;32m    289\u001b[0m     \u001b[0;32mif\u001b[0m \u001b[0;32mnot\u001b[0m \u001b[0mnp\u001b[0m\u001b[0;34m.\u001b[0m\u001b[0missubdtype\u001b[0m\u001b[0;34m(\u001b[0m\u001b[0my\u001b[0m\u001b[0;34m.\u001b[0m\u001b[0mdtype\u001b[0m\u001b[0;34m,\u001b[0m \u001b[0mnp\u001b[0m\u001b[0;34m.\u001b[0m\u001b[0mfloating\u001b[0m\u001b[0;34m)\u001b[0m\u001b[0;34m:\u001b[0m\u001b[0;34m\u001b[0m\u001b[0;34m\u001b[0m\u001b[0m\n\u001b[0;32m--> 290\u001b[0;31m         \u001b[0;32mraise\u001b[0m \u001b[0mParameterError\u001b[0m\u001b[0;34m(\u001b[0m\u001b[0;34m\"Audio data must be floating-point\"\u001b[0m\u001b[0;34m)\u001b[0m\u001b[0;34m\u001b[0m\u001b[0;34m\u001b[0m\u001b[0m\n\u001b[0m\u001b[1;32m    291\u001b[0m \u001b[0;34m\u001b[0m\u001b[0m\n\u001b[1;32m    292\u001b[0m     \u001b[0;32mif\u001b[0m \u001b[0mmono\u001b[0m \u001b[0;32mand\u001b[0m \u001b[0my\u001b[0m\u001b[0;34m.\u001b[0m\u001b[0mndim\u001b[0m \u001b[0;34m!=\u001b[0m \u001b[0;36m1\u001b[0m\u001b[0;34m:\u001b[0m\u001b[0;34m\u001b[0m\u001b[0;34m\u001b[0m\u001b[0m\n",
      "\u001b[0;31mParameterError\u001b[0m: Audio data must be floating-point"
     ]
    }
   ],
   "source": [
    "mono = librosa.to_mono(filenames1)"
   ]
  },
  {
   "cell_type": "code",
   "execution_count": 21,
   "id": "11fe1029",
   "metadata": {},
   "outputs": [],
   "source": [
    "import librosa\n",
    "librosa.to_mono\n",
    "filenames1 = 'experiment.wav'\n",
    "#ägenrep = TabDataReprGen()\n",
    "#data = genrep.load_rep_and_labels_from_raw_file(filenames)\n",
    "#process = genrep.preprocess_audio(data)"
   ]
  },
  {
   "cell_type": "code",
   "execution_count": 23,
   "id": "5b706b15",
   "metadata": {},
   "outputs": [
    {
     "data": {
      "text/plain": [
       "(363825,)"
      ]
     },
     "execution_count": 23,
     "metadata": {},
     "output_type": "execute_result"
    }
   ],
   "source": [
    "y, sr = librosa.load(filenames1, mono=True)\n",
    "y.shape\n"
   ]
  },
  {
   "cell_type": "code",
   "execution_count": 26,
   "id": "51edfc58",
   "metadata": {},
   "outputs": [
    {
     "data": {
      "text/plain": [
       "(192, 356)"
      ]
     },
     "execution_count": 26,
     "metadata": {},
     "output_type": "execute_result"
    }
   ],
   "source": [
    "process1 = genrep.preprocess_audio(y)\n",
    "process1.shape"
   ]
  },
  {
   "cell_type": "code",
   "execution_count": 29,
   "id": "bb3fe846",
   "metadata": {},
   "outputs": [],
   "source": [
    "file = '05_SS1-68-E_solo_mic.wav'"
   ]
  },
  {
   "cell_type": "code",
   "execution_count": null,
   "id": "31204929",
   "metadata": {},
   "outputs": [],
   "source": []
  },
  {
   "cell_type": "code",
   "execution_count": 31,
   "id": "bce1e1c2",
   "metadata": {},
   "outputs": [
    {
     "data": {
      "text/html": [
       "<div>\n",
       "<style scoped>\n",
       "    .dataframe tbody tr th:only-of-type {\n",
       "        vertical-align: middle;\n",
       "    }\n",
       "\n",
       "    .dataframe tbody tr th {\n",
       "        vertical-align: top;\n",
       "    }\n",
       "\n",
       "    .dataframe thead th {\n",
       "        text-align: right;\n",
       "    }\n",
       "</style>\n",
       "<table border=\"1\" class=\"dataframe\">\n",
       "  <thead>\n",
       "    <tr style=\"text-align: right;\">\n",
       "      <th></th>\n",
       "      <th>0</th>\n",
       "    </tr>\n",
       "  </thead>\n",
       "  <tbody>\n",
       "    <tr>\n",
       "      <th>0</th>\n",
       "      <td>-0.042010</td>\n",
       "    </tr>\n",
       "    <tr>\n",
       "      <th>1</th>\n",
       "      <td>-0.068635</td>\n",
       "    </tr>\n",
       "    <tr>\n",
       "      <th>2</th>\n",
       "      <td>-0.062514</td>\n",
       "    </tr>\n",
       "    <tr>\n",
       "      <th>3</th>\n",
       "      <td>-0.056002</td>\n",
       "    </tr>\n",
       "    <tr>\n",
       "      <th>4</th>\n",
       "      <td>-0.033455</td>\n",
       "    </tr>\n",
       "    <tr>\n",
       "      <th>...</th>\n",
       "      <td>...</td>\n",
       "    </tr>\n",
       "    <tr>\n",
       "      <th>933733</th>\n",
       "      <td>0.029599</td>\n",
       "    </tr>\n",
       "    <tr>\n",
       "      <th>933734</th>\n",
       "      <td>0.028971</td>\n",
       "    </tr>\n",
       "    <tr>\n",
       "      <th>933735</th>\n",
       "      <td>0.027659</td>\n",
       "    </tr>\n",
       "    <tr>\n",
       "      <th>933736</th>\n",
       "      <td>0.024777</td>\n",
       "    </tr>\n",
       "    <tr>\n",
       "      <th>933737</th>\n",
       "      <td>0.022929</td>\n",
       "    </tr>\n",
       "  </tbody>\n",
       "</table>\n",
       "<p>933738 rows × 1 columns</p>\n",
       "</div>"
      ],
      "text/plain": [
       "               0\n",
       "0      -0.042010\n",
       "1      -0.068635\n",
       "2      -0.062514\n",
       "3      -0.056002\n",
       "4      -0.033455\n",
       "...          ...\n",
       "933733  0.029599\n",
       "933734  0.028971\n",
       "933735  0.027659\n",
       "933736  0.024777\n",
       "933737  0.022929\n",
       "\n",
       "[933738 rows x 1 columns]"
      ]
     },
     "execution_count": 31,
     "metadata": {},
     "output_type": "execute_result"
    }
   ],
   "source": [
    "X = librosa.load(file, mono=True)\n",
    "pd.DataFrame(X[0])"
   ]
  },
  {
   "cell_type": "code",
   "execution_count": 33,
   "id": "a555f94e",
   "metadata": {},
   "outputs": [
    {
     "data": {
      "text/plain": [
       "0    22050\n",
       "dtype: int64"
      ]
     },
     "execution_count": 33,
     "metadata": {},
     "output_type": "execute_result"
    }
   ],
   "source": [
    "pd.Series(X[1])"
   ]
  },
  {
   "cell_type": "code",
   "execution_count": 34,
   "id": "9c2b324a",
   "metadata": {},
   "outputs": [
    {
     "data": {
      "text/html": [
       "<div>\n",
       "<style scoped>\n",
       "    .dataframe tbody tr th:only-of-type {\n",
       "        vertical-align: middle;\n",
       "    }\n",
       "\n",
       "    .dataframe tbody tr th {\n",
       "        vertical-align: top;\n",
       "    }\n",
       "\n",
       "    .dataframe thead th {\n",
       "        text-align: right;\n",
       "    }\n",
       "</style>\n",
       "<table border=\"1\" class=\"dataframe\">\n",
       "  <thead>\n",
       "    <tr style=\"text-align: right;\">\n",
       "      <th></th>\n",
       "      <th>0</th>\n",
       "    </tr>\n",
       "  </thead>\n",
       "  <tbody>\n",
       "    <tr>\n",
       "      <th>0</th>\n",
       "      <td>-0.042010</td>\n",
       "    </tr>\n",
       "    <tr>\n",
       "      <th>1</th>\n",
       "      <td>-0.068635</td>\n",
       "    </tr>\n",
       "    <tr>\n",
       "      <th>2</th>\n",
       "      <td>-0.062514</td>\n",
       "    </tr>\n",
       "    <tr>\n",
       "      <th>3</th>\n",
       "      <td>-0.056002</td>\n",
       "    </tr>\n",
       "    <tr>\n",
       "      <th>4</th>\n",
       "      <td>-0.033455</td>\n",
       "    </tr>\n",
       "    <tr>\n",
       "      <th>...</th>\n",
       "      <td>...</td>\n",
       "    </tr>\n",
       "    <tr>\n",
       "      <th>933733</th>\n",
       "      <td>0.029599</td>\n",
       "    </tr>\n",
       "    <tr>\n",
       "      <th>933734</th>\n",
       "      <td>0.028971</td>\n",
       "    </tr>\n",
       "    <tr>\n",
       "      <th>933735</th>\n",
       "      <td>0.027659</td>\n",
       "    </tr>\n",
       "    <tr>\n",
       "      <th>933736</th>\n",
       "      <td>0.024777</td>\n",
       "    </tr>\n",
       "    <tr>\n",
       "      <th>933737</th>\n",
       "      <td>0.022929</td>\n",
       "    </tr>\n",
       "  </tbody>\n",
       "</table>\n",
       "<p>933738 rows × 1 columns</p>\n",
       "</div>"
      ],
      "text/plain": [
       "               0\n",
       "0      -0.042010\n",
       "1      -0.068635\n",
       "2      -0.062514\n",
       "3      -0.056002\n",
       "4      -0.033455\n",
       "...          ...\n",
       "933733  0.029599\n",
       "933734  0.028971\n",
       "933735  0.027659\n",
       "933736  0.024777\n",
       "933737  0.022929\n",
       "\n",
       "[933738 rows x 1 columns]"
      ]
     },
     "execution_count": 34,
     "metadata": {},
     "output_type": "execute_result"
    }
   ],
   "source": [
    "X1 = librosa.load(file, mono=False)\n",
    "pd.DataFrame(X[0])"
   ]
  },
  {
   "cell_type": "code",
   "execution_count": 35,
   "id": "2b8f59d7",
   "metadata": {},
   "outputs": [
    {
     "data": {
      "text/plain": [
       "(192, 1824)"
      ]
     },
     "execution_count": 35,
     "metadata": {},
     "output_type": "execute_result"
    }
   ],
   "source": [
    "dataX = genrep.load_rep_and_labels_from_raw_file(file)\n",
    "processX = genrep.preprocess_audio(dataX)\n",
    "processX.shape"
   ]
  },
  {
   "cell_type": "code",
   "execution_count": 36,
   "id": "8aeab4f9",
   "metadata": {},
   "outputs": [
    {
     "ename": "TypeError",
     "evalue": "expected str, bytes or os.PathLike object, not tuple",
     "output_type": "error",
     "traceback": [
      "\u001b[0;31m---------------------------------------------------------------------------\u001b[0m",
      "\u001b[0;31mTypeError\u001b[0m                                 Traceback (most recent call last)",
      "\u001b[0;32m/var/folders/40/9_20qq053njgzvtqkynnfzfh0000gn/T/ipykernel_48349/3484999299.py\u001b[0m in \u001b[0;36m<module>\u001b[0;34m\u001b[0m\n\u001b[0;32m----> 1\u001b[0;31m \u001b[0mdataX1\u001b[0m \u001b[0;34m=\u001b[0m \u001b[0mgenrep\u001b[0m\u001b[0;34m.\u001b[0m\u001b[0mload_rep_and_labels_from_raw_file\u001b[0m\u001b[0;34m(\u001b[0m\u001b[0mX1\u001b[0m\u001b[0;34m)\u001b[0m\u001b[0;34m\u001b[0m\u001b[0;34m\u001b[0m\u001b[0m\n\u001b[0m\u001b[1;32m      2\u001b[0m \u001b[0mprocessX1\u001b[0m \u001b[0;34m=\u001b[0m \u001b[0mgenrep\u001b[0m\u001b[0;34m.\u001b[0m\u001b[0mpreprocess_audio\u001b[0m\u001b[0;34m(\u001b[0m\u001b[0mdataX1\u001b[0m\u001b[0;34m)\u001b[0m\u001b[0;34m\u001b[0m\u001b[0;34m\u001b[0m\u001b[0m\n\u001b[1;32m      3\u001b[0m \u001b[0mprocessX1\u001b[0m\u001b[0;34m.\u001b[0m\u001b[0mshape\u001b[0m\u001b[0;34m\u001b[0m\u001b[0;34m\u001b[0m\u001b[0m\n",
      "\u001b[0;32m/var/folders/40/9_20qq053njgzvtqkynnfzfh0000gn/T/ipykernel_48349/2387570294.py\u001b[0m in \u001b[0;36mload_rep_and_labels_from_raw_file\u001b[0;34m(self, filename)\u001b[0m\n\u001b[1;32m     57\u001b[0m         \u001b[0;31m#file_anno = self.path_anno + filename + \".jams\"         # jams file\u001b[0m\u001b[0;34m\u001b[0m\u001b[0;34m\u001b[0m\u001b[0;34m\u001b[0m\u001b[0m\n\u001b[1;32m     58\u001b[0m         \u001b[0;31m#jam = jams.load(file_anno)                              # loads jams file\u001b[0m\u001b[0;34m\u001b[0m\u001b[0;34m\u001b[0m\u001b[0;34m\u001b[0m\u001b[0m\n\u001b[0;32m---> 59\u001b[0;31m         \u001b[0mself\u001b[0m\u001b[0;34m.\u001b[0m\u001b[0msr_original\u001b[0m\u001b[0;34m,\u001b[0m \u001b[0mdata\u001b[0m \u001b[0;34m=\u001b[0m \u001b[0mwavfile\u001b[0m\u001b[0;34m.\u001b[0m\u001b[0mread\u001b[0m\u001b[0;34m(\u001b[0m\u001b[0mfile_audio\u001b[0m\u001b[0;34m)\u001b[0m       \u001b[0;31m# creates sample rate [int] and data from wav file\u001b[0m\u001b[0;34m\u001b[0m\u001b[0;34m\u001b[0m\u001b[0m\n\u001b[0m\u001b[1;32m     60\u001b[0m         \u001b[0mself\u001b[0m\u001b[0;34m.\u001b[0m\u001b[0msr_curr\u001b[0m \u001b[0;34m=\u001b[0m \u001b[0mself\u001b[0m\u001b[0;34m.\u001b[0m\u001b[0msr_original\u001b[0m\u001b[0;34m\u001b[0m\u001b[0;34m\u001b[0m\u001b[0m\n\u001b[1;32m     61\u001b[0m \u001b[0;34m\u001b[0m\u001b[0m\n",
      "\u001b[0;32m~/.pyenv/versions/3.8.12/envs/lewagon/lib/python3.8/site-packages/scipy/io/wavfile.py\u001b[0m in \u001b[0;36mread\u001b[0;34m(filename, mmap)\u001b[0m\n\u001b[1;32m    645\u001b[0m         \u001b[0mmmap\u001b[0m \u001b[0;34m=\u001b[0m \u001b[0;32mFalse\u001b[0m\u001b[0;34m\u001b[0m\u001b[0;34m\u001b[0m\u001b[0m\n\u001b[1;32m    646\u001b[0m     \u001b[0;32melse\u001b[0m\u001b[0;34m:\u001b[0m\u001b[0;34m\u001b[0m\u001b[0;34m\u001b[0m\u001b[0m\n\u001b[0;32m--> 647\u001b[0;31m         \u001b[0mfid\u001b[0m \u001b[0;34m=\u001b[0m \u001b[0mopen\u001b[0m\u001b[0;34m(\u001b[0m\u001b[0mfilename\u001b[0m\u001b[0;34m,\u001b[0m \u001b[0;34m'rb'\u001b[0m\u001b[0;34m)\u001b[0m\u001b[0;34m\u001b[0m\u001b[0;34m\u001b[0m\u001b[0m\n\u001b[0m\u001b[1;32m    648\u001b[0m \u001b[0;34m\u001b[0m\u001b[0m\n\u001b[1;32m    649\u001b[0m     \u001b[0;32mtry\u001b[0m\u001b[0;34m:\u001b[0m\u001b[0;34m\u001b[0m\u001b[0;34m\u001b[0m\u001b[0m\n",
      "\u001b[0;31mTypeError\u001b[0m: expected str, bytes or os.PathLike object, not tuple"
     ]
    }
   ],
   "source": [
    "dataX1 = genrep.load_rep_and_labels_from_raw_file(X1)\n",
    "processX1 = genrep.preprocess_audio(dataX1)\n",
    "processX1.shape"
   ]
  },
  {
   "cell_type": "code",
   "execution_count": null,
   "id": "11caa409",
   "metadata": {},
   "outputs": [],
   "source": [
    "y_pred = self.model.predict(x_new) #repr file\n",
    "\n"
   ]
  }
 ],
 "metadata": {
  "kernelspec": {
   "display_name": "Python 3 (ipykernel)",
   "language": "python",
   "name": "python3"
  },
  "language_info": {
   "codemirror_mode": {
    "name": "ipython",
    "version": 3
   },
   "file_extension": ".py",
   "mimetype": "text/x-python",
   "name": "python",
   "nbconvert_exporter": "python",
   "pygments_lexer": "ipython3",
   "version": "3.8.12"
  },
  "toc": {
   "base_numbering": 1,
   "nav_menu": {},
   "number_sections": true,
   "sideBar": true,
   "skip_h1_title": false,
   "title_cell": "Table of Contents",
   "title_sidebar": "Contents",
   "toc_cell": false,
   "toc_position": {},
   "toc_section_display": true,
   "toc_window_display": false
  }
 },
 "nbformat": 4,
 "nbformat_minor": 5
}
